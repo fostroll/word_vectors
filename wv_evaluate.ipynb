{
 "cells": [
  {
   "cell_type": "code",
   "execution_count": 1,
   "metadata": {},
   "outputs": [],
   "source": [
    "from gensim.models import KeyedVectors"
   ]
  },
  {
   "cell_type": "markdown",
   "metadata": {},
   "source": [
    "## Word2vec CBOW mean"
   ]
  },
  {
   "cell_type": "code",
   "execution_count": 23,
   "metadata": {},
   "outputs": [],
   "source": [
    "w2v_cbow_mean = KeyedVectors.load_word2vec_format('w2v_300_cbow_mean.vectors', binary = False)"
   ]
  },
  {
   "cell_type": "code",
   "execution_count": 7,
   "metadata": {},
   "outputs": [
    {
     "data": {
      "text/plain": [
       "[('королева', 0.7267639636993408),\n",
       " ('королева-мать', 0.6078645586967468),\n",
       " ('принцесса', 0.6020020842552185),\n",
       " ('короля', 0.572919487953186),\n",
       " ('правительница', 0.5556851625442505),\n",
       " ('изабелла', 0.5446481704711914),\n",
       " ('регентша', 0.5354652404785156),\n",
       " ('королеве', 0.5043072700500488),\n",
       " ('королю', 0.5028020739555359),\n",
       " ('королевой', 0.5024675130844116)]"
      ]
     },
     "execution_count": 7,
     "metadata": {},
     "output_type": "execute_result"
    }
   ],
   "source": [
    "w2v_cbow_mean.most_similar(positive=['женщина', 'король'], negative=['мужчина'])"
   ]
  },
  {
   "cell_type": "code",
   "execution_count": 18,
   "metadata": {},
   "outputs": [
    {
     "data": {
      "text/plain": [
       "[('чума', 0.7428004741668701),\n",
       " ('пандемия', 0.6831247806549072),\n",
       " ('холера', 0.6793841123580933),\n",
       " ('эпизоотия', 0.6713116765022278),\n",
       " ('эпидемии', 0.6522089838981628),\n",
       " ('засуха', 0.6128221154212952),\n",
       " ('чумы', 0.5939836502075195),\n",
       " ('вспышка', 0.5930479764938354),\n",
       " ('свирепствовавшая', 0.5914731025695801),\n",
       " ('паника', 0.5766767263412476)]"
      ]
     },
     "execution_count": 18,
     "metadata": {},
     "output_type": "execute_result"
    }
   ],
   "source": [
    "w2v_cbow_mean.most_similar(positive=['эпидемия'])"
   ]
  },
  {
   "cell_type": "code",
   "execution_count": 21,
   "metadata": {},
   "outputs": [
    {
     "data": {
      "text/plain": [
       "[('отличный', 0.7859633564949036),\n",
       " ('неплохой', 0.7248080968856812),\n",
       " ('прекрасный', 0.7070634365081787),\n",
       " ('превосходный', 0.6945902705192566),\n",
       " ('приятный', 0.65445876121521),\n",
       " ('посредственный', 0.6449559926986694),\n",
       " ('слабый', 0.6298943758010864),\n",
       " ('замечательный', 0.6259608268737793),\n",
       " ('потрясающий', 0.6207454204559326),\n",
       " ('скромный', 0.6072673797607422)]"
      ]
     },
     "execution_count": 21,
     "metadata": {},
     "output_type": "execute_result"
    }
   ],
   "source": [
    "w2v_cbow_mean.most_similar(positive=['хороший'])"
   ]
  },
  {
   "cell_type": "code",
   "execution_count": 42,
   "metadata": {},
   "outputs": [
    {
     "data": {
      "text/plain": [
       "'молоко'"
      ]
     },
     "execution_count": 42,
     "metadata": {},
     "output_type": "execute_result"
    }
   ],
   "source": [
    "w2v_cbow_mean.doesnt_match(['колбаса', 'сосиска', 'молоко'])"
   ]
  },
  {
   "cell_type": "code",
   "execution_count": 46,
   "metadata": {},
   "outputs": [
    {
     "data": {
      "text/plain": [
       "'спагетти'"
      ]
     },
     "execution_count": 46,
     "metadata": {},
     "output_type": "execute_result"
    }
   ],
   "source": [
    "w2v_cbow_mean.doesnt_match(['пальто', 'куртка', 'спагетти'])"
   ]
  },
  {
   "cell_type": "markdown",
   "metadata": {},
   "source": [
    "## Word2vec CBOW sum"
   ]
  },
  {
   "cell_type": "code",
   "execution_count": 24,
   "metadata": {},
   "outputs": [],
   "source": [
    "w2v_cbow_sum = KeyedVectors.load_word2vec_format('w2v_300_cbow_sum.vectors', binary = False)"
   ]
  },
  {
   "cell_type": "code",
   "execution_count": 25,
   "metadata": {},
   "outputs": [
    {
     "data": {
      "text/plain": [
       "[('см.', 0.9301396608352661),\n",
       " ('королева', 0.9294973611831665),\n",
       " ('деревня', 0.9293822050094604),\n",
       " ('ноября', 0.9291545152664185),\n",
       " ('девушка', 0.9289109110832214),\n",
       " ('принцесса', 0.9286214709281921),\n",
       " ('награды', 0.9285559058189392),\n",
       " ('color', 0.9285260438919067),\n",
       " ('станция', 0.9275444746017456),\n",
       " ('картина', 0.927338719367981)]"
      ]
     },
     "execution_count": 25,
     "metadata": {},
     "output_type": "execute_result"
    }
   ],
   "source": [
    "w2v_cbow_sum.most_similar(positive=['женщина', 'король'], negative=['мужчина'])"
   ]
  },
  {
   "cell_type": "code",
   "execution_count": 26,
   "metadata": {},
   "outputs": [
    {
     "data": {
      "text/plain": [
       "[('чума', 0.94019615650177),\n",
       " ('чумы', 0.9351057410240173),\n",
       " ('паника', 0.9325460195541382),\n",
       " ('эпидемии', 0.9310523867607117),\n",
       " ('война', 0.9300543069839478),\n",
       " ('борьба', 0.9293451905250549),\n",
       " ('умер', 0.928438663482666),\n",
       " ('скончался', 0.9275005459785461),\n",
       " ('карьера', 0.9237176179885864),\n",
       " ('похоронен', 0.9228552579879761)]"
      ]
     },
     "execution_count": 26,
     "metadata": {},
     "output_type": "execute_result"
    }
   ],
   "source": [
    "w2v_cbow_sum.most_similar(positive=['эпидемия'])"
   ]
  },
  {
   "cell_type": "code",
   "execution_count": 27,
   "metadata": {},
   "outputs": [
    {
     "data": {
      "text/plain": [
       "[('отличный', 0.9499028921127319),\n",
       " ('прекрасный', 0.9445685148239136),\n",
       " ('просто', 0.9401546716690063),\n",
       " ('также', 0.9395414590835571),\n",
       " ('действительно', 0.9394120573997498),\n",
       " ('недельные', 0.939216136932373),\n",
       " ('отец', 0.9389544725418091),\n",
       " ('года', 0.9382802248001099),\n",
       " (',', 0.9380674362182617),\n",
       " ('ботаническое', 0.937866747379303)]"
      ]
     },
     "execution_count": 27,
     "metadata": {},
     "output_type": "execute_result"
    }
   ],
   "source": [
    "w2v_cbow_sum.most_similar(positive=['хороший'])"
   ]
  },
  {
   "cell_type": "code",
   "execution_count": 41,
   "metadata": {},
   "outputs": [
    {
     "data": {
      "text/plain": [
       "'сосиска'"
      ]
     },
     "execution_count": 41,
     "metadata": {},
     "output_type": "execute_result"
    }
   ],
   "source": [
    "w2v_cbow_sum.doesnt_match(['колбаса', 'сосиска', 'молоко'])"
   ]
  },
  {
   "cell_type": "code",
   "execution_count": 49,
   "metadata": {},
   "outputs": [
    {
     "data": {
      "text/plain": [
       "'спагетти'"
      ]
     },
     "execution_count": 49,
     "metadata": {},
     "output_type": "execute_result"
    }
   ],
   "source": [
    "w2v_cbow_sum.doesnt_match(['пальто', 'куртка', 'спагетти'])"
   ]
  },
  {
   "cell_type": "markdown",
   "metadata": {},
   "source": [
    "## Word2vec Skipgram"
   ]
  },
  {
   "cell_type": "code",
   "execution_count": 28,
   "metadata": {},
   "outputs": [],
   "source": [
    "w2v_sg = KeyedVectors.load_word2vec_format('w2v_300_sg.vectors', binary = False)"
   ]
  },
  {
   "cell_type": "code",
   "execution_count": 29,
   "metadata": {},
   "outputs": [
    {
     "data": {
      "text/plain": [
       "[('королева', 0.6589411497116089),\n",
       " ('королём', 0.5643345713615417),\n",
       " ('короля', 0.5540504455566406),\n",
       " ('андриансимитовиаминандриандеибе', 0.5486350655555725),\n",
       " ('принцесса', 0.5385143160820007),\n",
       " ('королевой', 0.538189172744751),\n",
       " ('короли', 0.5359879732131958),\n",
       " ('королева-мать', 0.5335217714309692),\n",
       " ('вдовствующая', 0.5318169593811035),\n",
       " ('фроэхе', 0.5288965702056885)]"
      ]
     },
     "execution_count": 29,
     "metadata": {},
     "output_type": "execute_result"
    }
   ],
   "source": [
    "w2v_sg.most_similar(positive=['женщина', 'король'], negative=['мужчина'])"
   ]
  },
  {
   "cell_type": "code",
   "execution_count": 30,
   "metadata": {},
   "outputs": [
    {
     "data": {
      "text/plain": [
       "[('эпидемии', 0.7369709014892578),\n",
       " ('чума', 0.7304076552391052),\n",
       " ('чумы', 0.717246949672699),\n",
       " ('холеры', 0.640616774559021),\n",
       " ('свирепствовала', 0.6143932938575745),\n",
       " ('бубонной', 0.6129406094551086),\n",
       " ('эпидемией', 0.6106862425804138),\n",
       " ('холера', 0.6098768711090088),\n",
       " ('пандемия', 0.6079810857772827),\n",
       " ('унесшая', 0.5916556715965271)]"
      ]
     },
     "execution_count": 30,
     "metadata": {},
     "output_type": "execute_result"
    }
   ],
   "source": [
    "w2v_sg.most_similar(positive=['эпидемия'])"
   ]
  },
  {
   "cell_type": "code",
   "execution_count": 31,
   "metadata": {},
   "outputs": [
    {
     "data": {
      "text/plain": [
       "[('прекрасный', 0.6987074613571167),\n",
       " ('отличный', 0.6977938413619995),\n",
       " ('неплохой', 0.6677225232124329),\n",
       " ('превосходный', 0.6456458568572998),\n",
       " ('плохой', 0.6453189849853516),\n",
       " ('приятный', 0.5982050895690918),\n",
       " ('хорошая', 0.5821846127510071),\n",
       " ('хорошую', 0.5789697170257568),\n",
       " ('замечательный', 0.5666519403457642),\n",
       " ('потрясающий', 0.5626825094223022)]"
      ]
     },
     "execution_count": 31,
     "metadata": {},
     "output_type": "execute_result"
    }
   ],
   "source": [
    "w2v_sg.most_similar(positive=['хороший'])"
   ]
  },
  {
   "cell_type": "code",
   "execution_count": 40,
   "metadata": {},
   "outputs": [
    {
     "data": {
      "text/plain": [
       "'сосиска'"
      ]
     },
     "execution_count": 40,
     "metadata": {},
     "output_type": "execute_result"
    }
   ],
   "source": [
    "w2v_sg.doesnt_match(['колбаса', 'сосиска', 'молоко'])"
   ]
  },
  {
   "cell_type": "code",
   "execution_count": 47,
   "metadata": {},
   "outputs": [
    {
     "data": {
      "text/plain": [
       "'спагетти'"
      ]
     },
     "execution_count": 47,
     "metadata": {},
     "output_type": "execute_result"
    }
   ],
   "source": [
    "w2v_sg.doesnt_match(['пальто', 'куртка', 'спагетти'])"
   ]
  },
  {
   "cell_type": "markdown",
   "metadata": {},
   "source": [
    "## Glove"
   ]
  },
  {
   "cell_type": "code",
   "execution_count": 2,
   "metadata": {},
   "outputs": [],
   "source": [
    "from gensim.scripts.glove2word2vec import glove2word2vec\n",
    "from gensim.models import KeyedVectors as kv\n",
    "from pprint import pprint"
   ]
  },
  {
   "cell_type": "code",
   "execution_count": 19,
   "metadata": {},
   "outputs": [],
   "source": [
    "glove_file = 'glove_300.vectors.180.txt'"
   ]
  },
  {
   "cell_type": "code",
   "execution_count": 20,
   "metadata": {},
   "outputs": [],
   "source": [
    "#word2vec_glove_file = 'glove_w2v.txt'\n",
    "#glove2word2vec(glove_file, word2vec_glove_file)"
   ]
  },
  {
   "cell_type": "code",
   "execution_count": 21,
   "metadata": {},
   "outputs": [],
   "source": [
    "#model = kv.load_word2vec_format(word2vec_glove_file, binary=False)\n",
    "model = kv.load_word2vec_format(glove_file, binary=False)\n",
    "model.init_sims(replace=True)"
   ]
  },
  {
   "cell_type": "code",
   "execution_count": 22,
   "metadata": {},
   "outputs": [
    {
     "name": "stdout",
     "output_type": "stream",
     "text": [
      "[('мегафон', 0.6103068590164185),\n",
      " ('пао', 0.5768179893493652),\n",
      " ('билайн', 0.5754640698432922),\n",
      " ('кредо-телеком', 0.5137221813201904),\n",
      " ('сотовый', 0.5095359086990356),\n",
      " ('провайдер', 0.4992469549179077),\n",
      " ('оао', 0.4706910252571106),\n",
      " ('интернет-провайдер', 0.4697139859199524),\n",
      " ('уралсвязьинформ', 0.4611121118068695),\n",
      " ('телек', 0.4604272246360779)]\n"
     ]
    }
   ],
   "source": [
    "pprint(model.most_similar(positive=['ростелеком']))"
   ]
  },
  {
   "cell_type": "code",
   "execution_count": 23,
   "metadata": {},
   "outputs": [
    {
     "data": {
      "text/plain": [
       "[('королева', 0.7136000990867615),\n",
       " ('людовик', 0.6281541585922241),\n",
       " ('королевство', 0.6192548274993896),\n",
       " ('монарх', 0.5835912227630615),\n",
       " ('королевский', 0.5666000247001648),\n",
       " ('генрих', 0.5658578872680664),\n",
       " ('император', 0.5609273910522461),\n",
       " ('карла', 0.5531090497970581),\n",
       " ('принц', 0.547466516494751),\n",
       " ('королевой', 0.5429055094718933)]"
      ]
     },
     "execution_count": 23,
     "metadata": {},
     "output_type": "execute_result"
    }
   ],
   "source": [
    "model.most_similar(positive=['женщина', 'король'], negative=['мужчина'])"
   ]
  },
  {
   "cell_type": "code",
   "execution_count": 24,
   "metadata": {},
   "outputs": [
    {
     "data": {
      "text/plain": [
       "[('чума', 0.8302682638168335),\n",
       " ('холера', 0.8202348947525024),\n",
       " ('тиф', 0.6719868779182434),\n",
       " ('голод', 0.6414545774459839),\n",
       " ('малярия', 0.6157175302505493),\n",
       " ('пандемия', 0.6100760102272034),\n",
       " ('оспа', 0.6100577712059021),\n",
       " ('свирепствовать', 0.6010938882827759),\n",
       " ('сыпной', 0.5802857875823975),\n",
       " ('разразиться', 0.567638099193573)]"
      ]
     },
     "execution_count": 24,
     "metadata": {},
     "output_type": "execute_result"
    }
   ],
   "source": [
    "model.most_similar(positive=['эпидемия'])"
   ]
  },
  {
   "cell_type": "code",
   "execution_count": 25,
   "metadata": {},
   "outputs": [
    {
     "data": {
      "text/plain": [
       "[('плохой', 0.7766109704971313),\n",
       " ('отличный', 0.7281448245048523),\n",
       " ('очень', 0.7046401500701904),\n",
       " ('хорошо', 0.6928368210792542),\n",
       " ('прекрасный', 0.6617937088012695),\n",
       " ('неплохой', 0.6611596345901489),\n",
       " ('достаточно', 0.65495765209198),\n",
       " ('потому', 0.6332950592041016),\n",
       " ('так', 0.6314438581466675),\n",
       " ('давать', 0.6280447244644165)]"
      ]
     },
     "execution_count": 25,
     "metadata": {},
     "output_type": "execute_result"
    }
   ],
   "source": [
    "model.most_similar(positive=['хороший'])"
   ]
  },
  {
   "cell_type": "code",
   "execution_count": 26,
   "metadata": {},
   "outputs": [
    {
     "name": "stdout",
     "output_type": "stream",
     "text": [
      "'молоко'\n"
     ]
    }
   ],
   "source": [
    "pprint(model.doesnt_match(['колбаса', 'сосиска', 'молоко']))"
   ]
  },
  {
   "cell_type": "code",
   "execution_count": 27,
   "metadata": {},
   "outputs": [
    {
     "data": {
      "text/plain": [
       "'спагетти'"
      ]
     },
     "execution_count": 27,
     "metadata": {},
     "output_type": "execute_result"
    }
   ],
   "source": [
    "model.doesnt_match(['пальто', 'куртка', 'спагетти'])"
   ]
  },
  {
   "cell_type": "markdown",
   "metadata": {},
   "source": [
    "## Old vectors"
   ]
  },
  {
   "cell_type": "code",
   "execution_count": 108,
   "metadata": {},
   "outputs": [],
   "source": [
    "old_vectors = KeyedVectors.load_word2vec_format('vec2.gz', binary = False)"
   ]
  },
  {
   "cell_type": "code",
   "execution_count": 196,
   "metadata": {},
   "outputs": [],
   "source": [
    "old_vectors.init_sims(replace=True)"
   ]
  },
  {
   "cell_type": "code",
   "execution_count": 198,
   "metadata": {},
   "outputs": [
    {
     "name": "stdout",
     "output_type": "stream",
     "text": [
      "[('билайн', 0.8518906831741333),\n",
      " ('мегафон', 0.8193728923797607),\n",
      " ('транстелек', 0.7941860556602478),\n",
      " ('таттелек', 0.7817800641059875),\n",
      " ('укртелек', 0.7814157009124756),\n",
      " ('вымпелком', 0.7802860736846924),\n",
      " ('смартс', 0.7665973901748657),\n",
      " ('мгтс', 0.7649925947189331),\n",
      " ('дальсвязь', 0.7575850486755371),\n",
      " ('киевстарый', 0.7542393207550049)]\n"
     ]
    }
   ],
   "source": [
    "old_vectors.most_similar(positive=['ростелеком'])"
   ]
  },
  {
   "cell_type": "code",
   "execution_count": 200,
   "metadata": {},
   "outputs": [
    {
     "data": {
      "text/plain": [
       "[('королева', 0.6071463823318481),\n",
       " ('монарх', 0.5420776009559631),\n",
       " ('император', 0.5227702260017395),\n",
       " ('герцог', 0.5136210322380066),\n",
       " ('герцогиня', 0.4942780137062073),\n",
       " ('правительница', 0.4868214726448059),\n",
       " ('королевство', 0.4804552495479584),\n",
       " ('регент', 0.4790945053100586),\n",
       " ('принцесса', 0.4763980507850647),\n",
       " ('принц', 0.47603556513786316)]"
      ]
     },
     "execution_count": 200,
     "metadata": {},
     "output_type": "execute_result"
    }
   ],
   "source": [
    "old_vectors.most_similar(positive=['женщина', 'король'], negative=['мужчина'])"
   ]
  },
  {
   "cell_type": "code",
   "execution_count": 201,
   "metadata": {},
   "outputs": [
    {
     "data": {
      "text/plain": [
       "[('плохой', 0.46208709478378296),\n",
       " ('неплохой', 0.459058940410614),\n",
       " ('номинант', 0.4493252635002136),\n",
       " ('отличный', 0.4353821277618408),\n",
       " ('достойный', 0.4338458776473999),\n",
       " ('номинация', 0.4192631244659424),\n",
       " ('заслуженно', 0.4180033504962921),\n",
       " ('хорошеть', 0.41622304916381836),\n",
       " ('выдающийся', 0.3968164920806885),\n",
       " ('номинироваться', 0.396733820438385)]"
      ]
     },
     "execution_count": 201,
     "metadata": {},
     "output_type": "execute_result"
    }
   ],
   "source": [
    "old_vectors.most_similar(positive=['хороший'])"
   ]
  },
  {
   "cell_type": "code",
   "execution_count": 202,
   "metadata": {},
   "outputs": [
    {
     "name": "stderr",
     "output_type": "stream",
     "text": [
      "/usr/local/lib/python3.6/dist-packages/gensim/models/keyedvectors.py:877: FutureWarning: arrays to stack must be passed as a \"sequence\" type such as list or tuple. Support for non-sequence iterables such as generators is deprecated as of NumPy 1.16 and will raise an error in the future.\n",
      "  vectors = vstack(self.word_vec(word, use_norm=True) for word in used_words).astype(REAL)\n"
     ]
    },
    {
     "data": {
      "text/plain": [
       "'сосиска'"
      ]
     },
     "execution_count": 202,
     "metadata": {},
     "output_type": "execute_result"
    }
   ],
   "source": [
    "model.doesnt_match(['колбаса', 'сосиска', 'молоко'])"
   ]
  },
  {
   "cell_type": "markdown",
   "metadata": {},
   "source": [
    "## Vector Evaluation based on Datasets"
   ]
  },
  {
   "cell_type": "markdown",
   "metadata": {},
   "source": [
    "Word Analogy Dataset"
   ]
  },
  {
   "cell_type": "code",
   "execution_count": 11,
   "metadata": {},
   "outputs": [],
   "source": [
    "from urllib import request\n",
    "import numpy as np\n",
    "from tqdm import tqdm\n",
    "from collections import OrderedDict "
   ]
  },
  {
   "cell_type": "code",
   "execution_count": 12,
   "metadata": {},
   "outputs": [],
   "source": [
    "# аналогии, переведенные вручную на русский\n",
    "target_url = 'https://rusvectores.org/static/testsets/ru_analogy_tagged_PROPN.txt'"
   ]
  },
  {
   "cell_type": "code",
   "execution_count": 13,
   "metadata": {},
   "outputs": [],
   "source": [
    "lines = []\n",
    "\n",
    "for line in request.urlopen(target_url):\n",
    "    lines.append(line.decode('utf-8'))"
   ]
  },
  {
   "cell_type": "code",
   "execution_count": 14,
   "metadata": {},
   "outputs": [
    {
     "data": {
      "text/plain": [
       "[': capital-common-countries\\n',\n",
       " 'афины_PROPN греция_PROPN багдад_PROPN ирак_PROPN\\n']"
      ]
     },
     "execution_count": 14,
     "metadata": {},
     "output_type": "execute_result"
    }
   ],
   "source": [
    "lines[:2]"
   ]
  },
  {
   "cell_type": "code",
   "execution_count": 15,
   "metadata": {},
   "outputs": [],
   "source": [
    "# def count_mean(results):\n",
    "#     mean_accuracy = []\n",
    "    \n",
    "#     for k,v in results.items():\n",
    "#         v['mean'] = np.round(v['correct']/v['total'], decimals=2)\n",
    "#         if k != 'city-in-state':\n",
    "#             mean_accuracy.append(v['mean'])\n",
    "#         else:\n",
    "#             continue\n",
    "            \n",
    "#     results['mean_accuracy'] = np.round(np.mean(mean_accuracy), decimals=2)\n",
    "#     return(results)"
   ]
  },
  {
   "cell_type": "code",
   "execution_count": 16,
   "metadata": {},
   "outputs": [],
   "source": [
    "def eval_vectors(word_vectors, target):\n",
    "    means = {'total_mean':0, 'mean_no_state':0, 'mean_no_currency':0, 'mean_no_states+currency':0}\n",
    "    results = {}\n",
    "    \n",
    "    for line in tqdm(target):\n",
    "        analogy = [w.split('_')[0] for w in line.split()]\n",
    "        if not analogy:\n",
    "            continue\n",
    "\n",
    "        if ':' in line:\n",
    "            curr_topic = analogy[-1]\n",
    "            results[curr_topic] = {'accuracy':0, 'total': 0, 'correct': 0}\n",
    "            continue\n",
    "\n",
    "        if any(word not in word_vectors.vocab for word in analogy):\n",
    "            continue\n",
    "\n",
    "        results[curr_topic]['total'] += 1\n",
    "        word1, word2, word3, word4 = analogy\n",
    "\n",
    "        # забрать только первое, наиболее вероятное, слово из всех аналогий\n",
    "        candidate = word_vectors.most_similar(positive=[word3, word2], negative=[word1])[0][0]\n",
    "\n",
    "        if candidate.lower() == word4.lower():\n",
    "            results[curr_topic]['correct'] += 1\n",
    "\n",
    "    for k,v in results.items():\n",
    "        v['accuracy'] = np.round(v['correct']/v['total'], decimals=2)\n",
    "    \n",
    "    means['total_mean'] = np.round(np.mean([v['accuracy'] for k, v in results.items()]), decimals=2)\n",
    "    means['mean_no_state'] = np.round(np.mean([v['accuracy'] for k, v in results.items() if k != 'city-in-state']), decimals=2)\n",
    "    means['mean_no_currency'] = np.round(np.mean([v['accuracy'] for k, v in results.items() if k != 'currency']), decimals=2)\n",
    "    means['mean_no_states+currency'] = np.round(np.mean([v['accuracy'] for k, v in results.items() \n",
    "                                                  if k not in ['city-in-state', 'currency']]), decimals=2)\n",
    "    \n",
    "    means.update(results)\n",
    "    \n",
    "    return means"
   ]
  },
  {
   "cell_type": "code",
   "execution_count": 183,
   "metadata": {},
   "outputs": [
    {
     "name": "stderr",
     "output_type": "stream",
     "text": [
      "100%|██████████| 12241/12241 [08:38<00:00, 23.60it/s]\n"
     ]
    }
   ],
   "source": [
    "w2v_cbow_mean_eval = eval_vectors(w2v_cbow_mean, lines)"
   ]
  },
  {
   "cell_type": "code",
   "execution_count": 184,
   "metadata": {},
   "outputs": [
    {
     "name": "stderr",
     "output_type": "stream",
     "text": [
      "100%|██████████| 12241/12241 [07:47<00:00, 26.20it/s]\n"
     ]
    }
   ],
   "source": [
    "w2v_cbow_sum_eval = eval_vectors(w2v_cbow_sum, lines)"
   ]
  },
  {
   "cell_type": "code",
   "execution_count": 185,
   "metadata": {},
   "outputs": [
    {
     "name": "stderr",
     "output_type": "stream",
     "text": [
      "100%|██████████| 12241/12241 [08:45<00:00, 23.32it/s]\n"
     ]
    }
   ],
   "source": [
    "w2v_sg_eval = eval_vectors(w2v_sg, lines)"
   ]
  },
  {
   "cell_type": "code",
   "execution_count": 28,
   "metadata": {},
   "outputs": [
    {
     "name": "stderr",
     "output_type": "stream",
     "text": [
      "100%|██████████| 12241/12241 [09:55<00:00, 20.57it/s]\n"
     ]
    }
   ],
   "source": [
    "glove_eval = eval_vectors(model, lines)"
   ]
  },
  {
   "cell_type": "code",
   "execution_count": 30,
   "metadata": {},
   "outputs": [
    {
     "data": {
      "text/plain": [
       "{'total_mean': 0.53,\n",
       " 'mean_no_state': 0.53,\n",
       " 'mean_no_currency': 0.59,\n",
       " 'mean_no_states+currency': 0.61,\n",
       " 'capital-common-countries': {'accuracy': 0.95, 'total': 506, 'correct': 480},\n",
       " 'capital-world': {'accuracy': 0.66, 'total': 4293, 'correct': 2819},\n",
       " 'currency': {'accuracy': 0.07, 'total': 808, 'correct': 53},\n",
       " 'city-in-state': {'accuracy': 0.49, 'total': 2258, 'correct': 1106},\n",
       " 'family': {'accuracy': 0.67, 'total': 420, 'correct': 283},\n",
       " 'gram1-adjective-to-adverb': {'accuracy': 0.21, 'total': 930, 'correct': 199},\n",
       " 'gram2-opposite': {'accuracy': 0.25, 'total': 812, 'correct': 203},\n",
       " 'gram6-nationality-adjective': {'accuracy': 0.91,\n",
       "  'total': 1599,\n",
       "  'correct': 1454}}"
      ]
     },
     "execution_count": 30,
     "metadata": {},
     "output_type": "execute_result"
    }
   ],
   "source": [
    "glove_eval"
   ]
  },
  {
   "cell_type": "code",
   "execution_count": 18,
   "metadata": {},
   "outputs": [
    {
     "data": {
      "text/plain": [
       "{'total_mean': 0.52,\n",
       " 'mean_no_state': 0.53,\n",
       " 'mean_no_currency': 0.59,\n",
       " 'mean_no_states+currency': 0.61,\n",
       " 'capital-common-countries': {'accuracy': 0.95, 'total': 506, 'correct': 480},\n",
       " 'capital-world': {'accuracy': 0.66, 'total': 4293, 'correct': 2844},\n",
       " 'currency': {'accuracy': 0.07, 'total': 808, 'correct': 57},\n",
       " 'city-in-state': {'accuracy': 0.49, 'total': 2258, 'correct': 1099},\n",
       " 'family': {'accuracy': 0.67, 'total': 420, 'correct': 281},\n",
       " 'gram1-adjective-to-adverb': {'accuracy': 0.21, 'total': 930, 'correct': 194},\n",
       " 'gram2-opposite': {'accuracy': 0.24, 'total': 812, 'correct': 198},\n",
       " 'gram6-nationality-adjective': {'accuracy': 0.91,\n",
       "  'total': 1599,\n",
       "  'correct': 1454}}"
      ]
     },
     "execution_count": 18,
     "metadata": {},
     "output_type": "execute_result"
    }
   ],
   "source": [
    "glove_eval"
   ]
  },
  {
   "cell_type": "code",
   "execution_count": 203,
   "metadata": {},
   "outputs": [
    {
     "name": "stderr",
     "output_type": "stream",
     "text": [
      "100%|██████████| 12241/12241 [02:45<00:00, 73.87it/s] \n"
     ]
    }
   ],
   "source": [
    "old_vectors_eval = eval_vectors(old_vectors, lines)"
   ]
  },
  {
   "cell_type": "code",
   "execution_count": 204,
   "metadata": {},
   "outputs": [
    {
     "data": {
      "text/plain": [
       "{'total_mean': 0.42,\n",
       " 'mean_no_state': 0.47,\n",
       " 'mean_no_currency': 0.47,\n",
       " 'mean_no_states+currency': 0.53,\n",
       " 'capital-common-countries': {'mean': 0.75, 'total': 506, 'correct': 382},\n",
       " 'capital-world': {'mean': 0.54, 'total': 3991, 'correct': 2142},\n",
       " 'currency': {'mean': 0.12, 'total': 866, 'correct': 102},\n",
       " 'city-in-state': {'mean': 0.08, 'total': 1710, 'correct': 141},\n",
       " 'family': {'mean': 0.54, 'total': 272, 'correct': 148},\n",
       " 'gram1-adjective-to-adverb': {'mean': 0.27, 'total': 812, 'correct': 218},\n",
       " 'gram2-opposite': {'mean': 0.19, 'total': 552, 'correct': 105},\n",
       " 'gram6-nationality-adjective': {'mean': 0.9, 'total': 1599, 'correct': 1443}}"
      ]
     },
     "execution_count": 204,
     "metadata": {},
     "output_type": "execute_result"
    }
   ],
   "source": [
    "old_vectors_eval"
   ]
  },
  {
   "cell_type": "code",
   "execution_count": 233,
   "metadata": {},
   "outputs": [
    {
     "data": {
      "text/plain": [
       "'Report is written to report.txt'"
      ]
     },
     "execution_count": 233,
     "metadata": {},
     "output_type": "execute_result"
    }
   ],
   "source": [
    "def show_report(model_evals=False, file = 'report.txt'):\n",
    "    with open(file, 'w') as f:\n",
    "        for name, report in model_evals.items():\n",
    "            print(name, file=f)\n",
    "            for k1,v1 in report.items():\n",
    "                if isinstance(v1, float):\n",
    "                    print(k1 + ': ' + str(v1), file=f)\n",
    "\n",
    "                elif isinstance(v1, dict):\n",
    "                    print('\\n' + k1, file=f)\n",
    "                    for k2, v2 in v1.items():\n",
    "                        print('\\t' + k2 + ': ' + str(v2), file=f)\n",
    "\n",
    "            print('\\n'+ '*'*30 + '\\n', file=f)\n",
    "            \n",
    "    return 'Report is written to '+ file\n",
    "\n",
    "model_evals = {'W2V CBOW MEAN': w2v_cbow_mean_eval, \n",
    "               'W2V CBOW SUM': w2v_cbow_sum_eval, \n",
    "               'W2V SKIPGRAM': w2v_sg_eval, \n",
    "               'GLOVE': glove_eval,\n",
    "               'OLD VECTORS': old_vectors_eval\n",
    "              }\n",
    "\n",
    "show_report(model_evals=model_evals)"
   ]
  },
  {
   "cell_type": "code",
   "execution_count": null,
   "metadata": {},
   "outputs": [],
   "source": []
  }
 ],
 "metadata": {
  "kernelspec": {
   "display_name": "Python 3",
   "language": "python",
   "name": "python3"
  },
  "language_info": {
   "codemirror_mode": {
    "name": "ipython",
    "version": 3
   },
   "file_extension": ".py",
   "mimetype": "text/x-python",
   "name": "python",
   "nbconvert_exporter": "python",
   "pygments_lexer": "ipython3",
   "version": "3.6.8"
  }
 },
 "nbformat": 4,
 "nbformat_minor": 2
}
